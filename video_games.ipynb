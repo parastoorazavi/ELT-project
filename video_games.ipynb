{
 "cells": [
  {
   "cell_type": "code",
   "execution_count": 1,
   "metadata": {
    "ExecuteTime": {
     "end_time": "2020-11-29T11:24:03.848880Z",
     "start_time": "2020-11-29T11:24:03.391721Z"
    }
   },
   "outputs": [],
   "source": [
    "# Dependencies \n",
    "import pandas as pd\n",
    "import requests\n",
    "import json\n",
    "from config import API_KEY, username, password, host, port\n",
    "from datetime import date\n",
    "import numpy as np\n",
    "from sqlalchemy import create_engine\n",
    "today = date.today()"
   ]
  },
  {
   "cell_type": "markdown",
   "metadata": {},
   "source": [
    "## Extract json files into DataFrames"
   ]
  },
  {
   "cell_type": "code",
   "execution_count": 2,
   "metadata": {
    "ExecuteTime": {
     "end_time": "2020-11-29T11:27:06.507864Z",
     "start_time": "2020-11-29T11:24:07.639400Z"
    }
   },
   "outputs": [],
   "source": [
    "# Games DataFrame\n",
    "games_id = []\n",
    "games_name = []\n",
    "games_slug = []\n",
    "released = []\n",
    "rating = []\n",
    "ratings_count = []\n",
    "playtime = []\n",
    "platform_id = []\n",
    "platform = []\n",
    "genres = []\n",
    "stores = []\n",
    "\n",
    "# Getting games data by using for loop trough pages\n",
    "# for i in range(1 , 11835):\n",
    "for i in range(1 , 200):\n",
    "    # URL for GET requests to retrieve games data\n",
    "    url = f\"https://api.rawg.io/api/games?key={API_KEY}&page_size=40&dates=2017-01-01,{today}&page={i}\"\n",
    "    # Print the games_details object to the console\n",
    "    games_details = requests.get(url).json()\n",
    "#     print(f\"Retriveing info for page {i}\")\n",
    "#   using for loop trough page-size\n",
    "    for n in range(0, 39):\n",
    "        try:\n",
    "            games_id.append(games_details['results'][n]['id'])\n",
    "            games_name.append(games_details['results'][n]['name'])\n",
    "            games_slug.append(games_details['results'][n]['slug'])\n",
    "            released.append(games_details['results'][n]['released'])\n",
    "            rating.append(games_details['results'][n]['rating'])\n",
    "            ratings_count.append(games_details['results'][n]['ratings_count'])\n",
    "            playtime.append(games_details['results'][n]['playtime'])\n",
    "            platform_id.append(games_details['results'][n]['platforms'][0]['platform']['id'])\n",
    "            platform.append(games_details['results'][n]['platforms'][0]['platform']['name'])\n",
    "            genres.append(games_details['results'][n]['genres'][0]['name'])\n",
    "            stores.append(games_details['results'][n]['stores'][0]['store']['name'])\n",
    "            \n",
    "        except:\n",
    "# #             print(\"Couldn't find the data\")\n",
    "#             platform_id.append(None)\n",
    "#             platform.append(None)  \n",
    "            genres.append(None)\n",
    "            stores.append(None)"
   ]
  },
  {
   "cell_type": "code",
   "execution_count": 3,
   "metadata": {
    "ExecuteTime": {
     "end_time": "2020-11-29T11:27:06.869349Z",
     "start_time": "2020-11-29T11:27:06.510666Z"
    }
   },
   "outputs": [
    {
     "data": {
      "text/html": [
       "<div>\n",
       "<style scoped>\n",
       "    .dataframe tbody tr th:only-of-type {\n",
       "        vertical-align: middle;\n",
       "    }\n",
       "\n",
       "    .dataframe tbody tr th {\n",
       "        vertical-align: top;\n",
       "    }\n",
       "\n",
       "    .dataframe thead th {\n",
       "        text-align: right;\n",
       "    }\n",
       "</style>\n",
       "<table border=\"1\" class=\"dataframe\">\n",
       "  <thead>\n",
       "    <tr style=\"text-align: right;\">\n",
       "      <th></th>\n",
       "      <th>games_id</th>\n",
       "      <th>games_name</th>\n",
       "      <th>games_slug</th>\n",
       "      <th>released</th>\n",
       "      <th>rating</th>\n",
       "      <th>ratings_count</th>\n",
       "      <th>playtime</th>\n",
       "      <th>platform</th>\n",
       "      <th>platform_id</th>\n",
       "      <th>genres</th>\n",
       "      <th>stores</th>\n",
       "    </tr>\n",
       "    <tr>\n",
       "      <th>id</th>\n",
       "      <th></th>\n",
       "      <th></th>\n",
       "      <th></th>\n",
       "      <th></th>\n",
       "      <th></th>\n",
       "      <th></th>\n",
       "      <th></th>\n",
       "      <th></th>\n",
       "      <th></th>\n",
       "      <th></th>\n",
       "      <th></th>\n",
       "    </tr>\n",
       "  </thead>\n",
       "  <tbody>\n",
       "    <tr>\n",
       "      <th>1</th>\n",
       "      <td>28</td>\n",
       "      <td>Red Dead Redemption 2</td>\n",
       "      <td>red-dead-redemption-2</td>\n",
       "      <td>2018-10-26</td>\n",
       "      <td>4.56</td>\n",
       "      <td>2900</td>\n",
       "      <td>20</td>\n",
       "      <td>PC</td>\n",
       "      <td>4</td>\n",
       "      <td>Adventure</td>\n",
       "      <td>Steam</td>\n",
       "    </tr>\n",
       "    <tr>\n",
       "      <th>2</th>\n",
       "      <td>58175</td>\n",
       "      <td>God of War</td>\n",
       "      <td>god-of-war-2</td>\n",
       "      <td>2018-04-20</td>\n",
       "      <td>4.6</td>\n",
       "      <td>2877</td>\n",
       "      <td>20</td>\n",
       "      <td>PlayStation 4</td>\n",
       "      <td>18</td>\n",
       "      <td>Adventure</td>\n",
       "      <td>PlayStation Store</td>\n",
       "    </tr>\n",
       "    <tr>\n",
       "      <th>3</th>\n",
       "      <td>32</td>\n",
       "      <td>Destiny 2</td>\n",
       "      <td>destiny-2</td>\n",
       "      <td>2017-09-06</td>\n",
       "      <td>3.63</td>\n",
       "      <td>1658</td>\n",
       "      <td>4</td>\n",
       "      <td>PC</td>\n",
       "      <td>4</td>\n",
       "      <td>Shooter</td>\n",
       "      <td>Steam</td>\n",
       "    </tr>\n",
       "    <tr>\n",
       "      <th>4</th>\n",
       "      <td>278</td>\n",
       "      <td>Horizon Zero Dawn</td>\n",
       "      <td>horizon-zero-dawn</td>\n",
       "      <td>2017-02-28</td>\n",
       "      <td>4.35</td>\n",
       "      <td>2400</td>\n",
       "      <td>7</td>\n",
       "      <td>PC</td>\n",
       "      <td>4</td>\n",
       "      <td>Adventure</td>\n",
       "      <td>Steam</td>\n",
       "    </tr>\n",
       "    <tr>\n",
       "      <th>5</th>\n",
       "      <td>10035</td>\n",
       "      <td>HITMAN</td>\n",
       "      <td>hitman</td>\n",
       "      <td>2017-11-16</td>\n",
       "      <td>3.92</td>\n",
       "      <td>1358</td>\n",
       "      <td>7</td>\n",
       "      <td>PC</td>\n",
       "      <td>4</td>\n",
       "      <td>Shooter</td>\n",
       "      <td>Steam</td>\n",
       "    </tr>\n",
       "    <tr>\n",
       "      <th>...</th>\n",
       "      <td>...</td>\n",
       "      <td>...</td>\n",
       "      <td>...</td>\n",
       "      <td>...</td>\n",
       "      <td>...</td>\n",
       "      <td>...</td>\n",
       "      <td>...</td>\n",
       "      <td>...</td>\n",
       "      <td>...</td>\n",
       "      <td>...</td>\n",
       "      <td>...</td>\n",
       "    </tr>\n",
       "    <tr>\n",
       "      <th>66</th>\n",
       "      <td>398423</td>\n",
       "      <td>Gothic Playable Teaser</td>\n",
       "      <td>gothic-playable-teaser</td>\n",
       "      <td>2019-12-14</td>\n",
       "      <td>2.77</td>\n",
       "      <td>115</td>\n",
       "      <td>1</td>\n",
       "      <td>PC</td>\n",
       "      <td>4</td>\n",
       "      <td>RPG</td>\n",
       "      <td>Steam</td>\n",
       "    </tr>\n",
       "    <tr>\n",
       "      <th>67</th>\n",
       "      <td>137</td>\n",
       "      <td>Mass Effect: Andromeda</td>\n",
       "      <td>mass-effect-andromeda</td>\n",
       "      <td>2017-03-21</td>\n",
       "      <td>3.23</td>\n",
       "      <td>761</td>\n",
       "      <td>23</td>\n",
       "      <td>PC</td>\n",
       "      <td>4</td>\n",
       "      <td>Action</td>\n",
       "      <td>Steam</td>\n",
       "    </tr>\n",
       "    <tr>\n",
       "      <th>68</th>\n",
       "      <td>59359</td>\n",
       "      <td>A Plague Tale: Innocence</td>\n",
       "      <td>a-plague-tale-innocence</td>\n",
       "      <td>2019-05-13</td>\n",
       "      <td>4.18</td>\n",
       "      <td>556</td>\n",
       "      <td>5</td>\n",
       "      <td>PC</td>\n",
       "      <td>4</td>\n",
       "      <td>Adventure</td>\n",
       "      <td>Steam</td>\n",
       "    </tr>\n",
       "    <tr>\n",
       "      <th>69</th>\n",
       "      <td>29338</td>\n",
       "      <td>Days Gone</td>\n",
       "      <td>days-gone</td>\n",
       "      <td>2019-04-26</td>\n",
       "      <td>3.93</td>\n",
       "      <td>480</td>\n",
       "      <td>0</td>\n",
       "      <td>PlayStation 4</td>\n",
       "      <td>18</td>\n",
       "      <td>Adventure</td>\n",
       "      <td>PlayStation Store</td>\n",
       "    </tr>\n",
       "    <tr>\n",
       "      <th>70</th>\n",
       "      <td>327999</td>\n",
       "      <td>Dota Underlords</td>\n",
       "      <td>dota-underlords</td>\n",
       "      <td>2020-02-25</td>\n",
       "      <td>3.22</td>\n",
       "      <td>444</td>\n",
       "      <td>3</td>\n",
       "      <td>PC</td>\n",
       "      <td>4</td>\n",
       "      <td>Casual</td>\n",
       "      <td>Steam</td>\n",
       "    </tr>\n",
       "  </tbody>\n",
       "</table>\n",
       "<p>70 rows × 11 columns</p>\n",
       "</div>"
      ],
      "text/plain": [
       "   games_id                games_name               games_slug    released  \\\n",
       "id                                                                           \n",
       "1        28     Red Dead Redemption 2    red-dead-redemption-2  2018-10-26   \n",
       "2     58175                God of War             god-of-war-2  2018-04-20   \n",
       "3        32                 Destiny 2                destiny-2  2017-09-06   \n",
       "4       278         Horizon Zero Dawn        horizon-zero-dawn  2017-02-28   \n",
       "5     10035                    HITMAN                   hitman  2017-11-16   \n",
       "..      ...                       ...                      ...         ...   \n",
       "66   398423    Gothic Playable Teaser   gothic-playable-teaser  2019-12-14   \n",
       "67      137    Mass Effect: Andromeda    mass-effect-andromeda  2017-03-21   \n",
       "68    59359  A Plague Tale: Innocence  a-plague-tale-innocence  2019-05-13   \n",
       "69    29338                 Days Gone                days-gone  2019-04-26   \n",
       "70   327999           Dota Underlords          dota-underlords  2020-02-25   \n",
       "\n",
       "   rating ratings_count playtime       platform platform_id     genres  \\\n",
       "id                                                                       \n",
       "1    4.56          2900       20             PC           4  Adventure   \n",
       "2     4.6          2877       20  PlayStation 4          18  Adventure   \n",
       "3    3.63          1658        4             PC           4    Shooter   \n",
       "4    4.35          2400        7             PC           4  Adventure   \n",
       "5    3.92          1358        7             PC           4    Shooter   \n",
       "..    ...           ...      ...            ...         ...        ...   \n",
       "66   2.77           115        1             PC           4        RPG   \n",
       "67   3.23           761       23             PC           4     Action   \n",
       "68   4.18           556        5             PC           4  Adventure   \n",
       "69   3.93           480        0  PlayStation 4          18  Adventure   \n",
       "70   3.22           444        3             PC           4     Casual   \n",
       "\n",
       "               stores  \n",
       "id                     \n",
       "1               Steam  \n",
       "2   PlayStation Store  \n",
       "3               Steam  \n",
       "4               Steam  \n",
       "5               Steam  \n",
       "..                ...  \n",
       "66              Steam  \n",
       "67              Steam  \n",
       "68              Steam  \n",
       "69  PlayStation Store  \n",
       "70              Steam  \n",
       "\n",
       "[70 rows x 11 columns]"
      ]
     },
     "execution_count": 3,
     "metadata": {},
     "output_type": "execute_result"
    }
   ],
   "source": [
    "# Create games DataFrame\n",
    "a = {'games_id' : games_id ,\n",
    "     'games_name' : games_name,\n",
    "     'games_slug': games_slug, \n",
    "     'released':released, \n",
    "     'rating' : rating, \n",
    "     'ratings_count':ratings_count, \n",
    "     'playtime':playtime,\n",
    "     'platform':platform, \n",
    "     'platform_id':platform_id, \n",
    "     'genres':genres, \n",
    "     'stores':stores}\n",
    "\n",
    "games_df = pd.DataFrame.from_dict(a, orient='index')\n",
    "games_df = games_df.transpose()\n",
    "games_df.index = [x for x in range(1, len(games_df.values)+1)]\n",
    "games_df.index.name = 'id'\n",
    "games_df.head(70)"
   ]
  },
  {
   "cell_type": "code",
   "execution_count": 4,
   "metadata": {
    "ExecuteTime": {
     "end_time": "2020-11-29T11:27:06.875468Z",
     "start_time": "2020-11-29T11:27:06.871680Z"
    }
   },
   "outputs": [
    {
     "name": "stdout",
     "output_type": "stream",
     "text": [
      "5811 5811 5811 5811 5811 5811 5811 5810 5810 5842 5811\n"
     ]
    }
   ],
   "source": [
    "# Check the lenght of each columns\n",
    "print(len(games_id), len(games_name), len(games_slug),len(released), len(rating), len(ratings_count),len(playtime), len(platform_id), len(platform), len(genres), len(stores))"
   ]
  },
  {
   "cell_type": "code",
   "execution_count": 5,
   "metadata": {
    "ExecuteTime": {
     "end_time": "2020-11-29T11:27:06.880758Z",
     "start_time": "2020-11-29T11:27:06.877643Z"
    }
   },
   "outputs": [
    {
     "data": {
      "text/plain": [
       "5842"
      ]
     },
     "execution_count": 5,
     "metadata": {},
     "output_type": "execute_result"
    }
   ],
   "source": [
    "# Check the lenght of games DataFrame\n",
    "len(games_df)"
   ]
  },
  {
   "cell_type": "code",
   "execution_count": 6,
   "metadata": {
    "ExecuteTime": {
     "end_time": "2020-11-29T11:28:46.313395Z",
     "start_time": "2020-11-29T11:27:06.882295Z"
    }
   },
   "outputs": [],
   "source": [
    "# Publishers DataFrame\n",
    "publishers_id = []\n",
    "publishers_name = []\n",
    "slug_name = []\n",
    "games_count = []\n",
    "games_id = []\n",
    "\n",
    "# Getting publishers data by using for loop trough pages\n",
    "# for i in range(1, 1124):\n",
    "for i in range(1, 200):\n",
    "    # URL for GET requests to retrieve publishers data\n",
    "    url = f\"https://api.rawg.io/api/publishers?key={API_KEY}&page_size=40&page={i}\"\n",
    "#     Print the publishers_details object to the console\n",
    "    publishers_details = requests.get(url).json()\n",
    "#   using for loop trough page-size\n",
    "    for n in range(0, 39):\n",
    "        for j in range(0 , len(publishers_details['results'][n]['games'])):\n",
    "            try:\n",
    "                publishers_id.append(publishers_details['results'][n]['id'])\n",
    "                publishers_name.append(publishers_details['results'][n]['name'])\n",
    "                slug_name.append(publishers_details['results'][n]['slug'])\n",
    "                games_count.append(publishers_details['results'][n]['games_count'])\n",
    "                games_id.append(publishers_details['results'][n]['games'][j][\"id\"])\n",
    "            except:\n",
    "#             print(\"Couldn't find the data\")\n",
    "                games_id.append(None)"
   ]
  },
  {
   "cell_type": "code",
   "execution_count": 7,
   "metadata": {
    "ExecuteTime": {
     "end_time": "2020-11-29T11:28:47.312730Z",
     "start_time": "2020-11-29T11:28:46.315714Z"
    }
   },
   "outputs": [
    {
     "data": {
      "text/html": [
       "<div>\n",
       "<style scoped>\n",
       "    .dataframe tbody tr th:only-of-type {\n",
       "        vertical-align: middle;\n",
       "    }\n",
       "\n",
       "    .dataframe tbody tr th {\n",
       "        vertical-align: top;\n",
       "    }\n",
       "\n",
       "    .dataframe thead th {\n",
       "        text-align: right;\n",
       "    }\n",
       "</style>\n",
       "<table border=\"1\" class=\"dataframe\">\n",
       "  <thead>\n",
       "    <tr style=\"text-align: right;\">\n",
       "      <th></th>\n",
       "      <th>publishers_id</th>\n",
       "      <th>publishers_name</th>\n",
       "      <th>slug_name</th>\n",
       "      <th>games_count</th>\n",
       "      <th>games_id</th>\n",
       "    </tr>\n",
       "    <tr>\n",
       "      <th>id</th>\n",
       "      <th></th>\n",
       "      <th></th>\n",
       "      <th></th>\n",
       "      <th></th>\n",
       "      <th></th>\n",
       "    </tr>\n",
       "  </thead>\n",
       "  <tbody>\n",
       "    <tr>\n",
       "      <th>1</th>\n",
       "      <td>354</td>\n",
       "      <td>Electronic Arts</td>\n",
       "      <td>electronic-arts</td>\n",
       "      <td>1226</td>\n",
       "      <td>4200</td>\n",
       "    </tr>\n",
       "    <tr>\n",
       "      <th>2</th>\n",
       "      <td>354</td>\n",
       "      <td>Electronic Arts</td>\n",
       "      <td>electronic-arts</td>\n",
       "      <td>1226</td>\n",
       "      <td>12020</td>\n",
       "    </tr>\n",
       "    <tr>\n",
       "      <th>3</th>\n",
       "      <td>354</td>\n",
       "      <td>Electronic Arts</td>\n",
       "      <td>electronic-arts</td>\n",
       "      <td>1226</td>\n",
       "      <td>4252</td>\n",
       "    </tr>\n",
       "    <tr>\n",
       "      <th>4</th>\n",
       "      <td>354</td>\n",
       "      <td>Electronic Arts</td>\n",
       "      <td>electronic-arts</td>\n",
       "      <td>1226</td>\n",
       "      <td>4806</td>\n",
       "    </tr>\n",
       "    <tr>\n",
       "      <th>5</th>\n",
       "      <td>354</td>\n",
       "      <td>Electronic Arts</td>\n",
       "      <td>electronic-arts</td>\n",
       "      <td>1226</td>\n",
       "      <td>4570</td>\n",
       "    </tr>\n",
       "    <tr>\n",
       "      <th>...</th>\n",
       "      <td>...</td>\n",
       "      <td>...</td>\n",
       "      <td>...</td>\n",
       "      <td>...</td>\n",
       "      <td>...</td>\n",
       "    </tr>\n",
       "    <tr>\n",
       "      <th>17572</th>\n",
       "      <td>5348</td>\n",
       "      <td>Miria Studios</td>\n",
       "      <td>miria-studios</td>\n",
       "      <td>1</td>\n",
       "      <td>12438</td>\n",
       "    </tr>\n",
       "    <tr>\n",
       "      <th>17573</th>\n",
       "      <td>5549</td>\n",
       "      <td>Apeirogon Games</td>\n",
       "      <td>apeirogon-games</td>\n",
       "      <td>2</td>\n",
       "      <td>29271</td>\n",
       "    </tr>\n",
       "    <tr>\n",
       "      <th>17574</th>\n",
       "      <td>5549</td>\n",
       "      <td>Apeirogon Games</td>\n",
       "      <td>apeirogon-games</td>\n",
       "      <td>2</td>\n",
       "      <td>12692</td>\n",
       "    </tr>\n",
       "    <tr>\n",
       "      <th>17575</th>\n",
       "      <td>9370</td>\n",
       "      <td>Divergent Game Studio</td>\n",
       "      <td>divergent-game-studio</td>\n",
       "      <td>2</td>\n",
       "      <td>21770</td>\n",
       "    </tr>\n",
       "    <tr>\n",
       "      <th>17576</th>\n",
       "      <td>9370</td>\n",
       "      <td>Divergent Game Studio</td>\n",
       "      <td>divergent-game-studio</td>\n",
       "      <td>2</td>\n",
       "      <td>20449</td>\n",
       "    </tr>\n",
       "  </tbody>\n",
       "</table>\n",
       "<p>17576 rows × 5 columns</p>\n",
       "</div>"
      ],
      "text/plain": [
       "      publishers_id        publishers_name              slug_name games_count  \\\n",
       "id                                                                              \n",
       "1               354        Electronic Arts        electronic-arts        1226   \n",
       "2               354        Electronic Arts        electronic-arts        1226   \n",
       "3               354        Electronic Arts        electronic-arts        1226   \n",
       "4               354        Electronic Arts        electronic-arts        1226   \n",
       "5               354        Electronic Arts        electronic-arts        1226   \n",
       "...             ...                    ...                    ...         ...   \n",
       "17572          5348          Miria Studios          miria-studios           1   \n",
       "17573          5549        Apeirogon Games        apeirogon-games           2   \n",
       "17574          5549        Apeirogon Games        apeirogon-games           2   \n",
       "17575          9370  Divergent Game Studio  divergent-game-studio           2   \n",
       "17576          9370  Divergent Game Studio  divergent-game-studio           2   \n",
       "\n",
       "      games_id  \n",
       "id              \n",
       "1         4200  \n",
       "2        12020  \n",
       "3         4252  \n",
       "4         4806  \n",
       "5         4570  \n",
       "...        ...  \n",
       "17572    12438  \n",
       "17573    29271  \n",
       "17574    12692  \n",
       "17575    21770  \n",
       "17576    20449  \n",
       "\n",
       "[17576 rows x 5 columns]"
      ]
     },
     "execution_count": 7,
     "metadata": {},
     "output_type": "execute_result"
    }
   ],
   "source": [
    "# Create publishers DataFrame\n",
    "a = {'publishers_id': publishers_id,\n",
    "     'publishers_name': publishers_name,\n",
    "     'slug_name': slug_name,\n",
    "     'games_count': games_count,\n",
    "     'games_id':games_id}\n",
    "\n",
    "\n",
    "publishers_df = pd.DataFrame.from_dict(a, orient='index')\n",
    "publishers_df = publishers_df.transpose()\n",
    "publishers_df.index = [x for x in range(1, len(publishers_df.values)+1)]\n",
    "publishers_df.index.name = 'id'\n",
    "publishers_df"
   ]
  },
  {
   "cell_type": "code",
   "execution_count": 8,
   "metadata": {
    "ExecuteTime": {
     "end_time": "2020-11-29T11:28:47.317491Z",
     "start_time": "2020-11-29T11:28:47.314473Z"
    }
   },
   "outputs": [
    {
     "data": {
      "text/plain": [
       "17576"
      ]
     },
     "execution_count": 8,
     "metadata": {},
     "output_type": "execute_result"
    }
   ],
   "source": [
    "# Check the lenght of publishers DataFrame\n",
    "len(publishers_df)"
   ]
  },
  {
   "cell_type": "code",
   "execution_count": 9,
   "metadata": {
    "ExecuteTime": {
     "end_time": "2020-11-29T11:30:48.170601Z",
     "start_time": "2020-11-29T11:28:47.319578Z"
    }
   },
   "outputs": [],
   "source": [
    "# Developers DataFrame\n",
    "developers_id = []\n",
    "developers_name = []\n",
    "slug_name = []\n",
    "games_count = []\n",
    "games_id = []\n",
    "\n",
    "# Getting developers data by using for loop trough pages\n",
    "# for i in range(1, 5535):\n",
    "for i in range(1, 200):\n",
    "    # URL for GET requests to retrieve developers data\n",
    "    url = f\"https://api.rawg.io/api/developers?key={API_KEY}&page_size=40&page={i}\"\n",
    "    #Print the developers_details object to the console\n",
    "    developers_details = requests.get(url).json()\n",
    "    #using for loop trough page-size\n",
    "    for n in range(0, 39):\n",
    "        for j in range(0 , len(developers_details['results'][n]['games'])):\n",
    "            try:\n",
    "                developers_id.append(developers_details['results'][n]['id'])\n",
    "                developers_name.append(developers_details['results'][n]['name'])\n",
    "                slug_name.append(developers_details['results'][n]['slug'])\n",
    "                games_count.append(developers_details['results'][n]['games_count'])\n",
    "                games_id.append(developers_details['results'][n]['games'][j][\"id\"])\n",
    "            except:\n",
    "#             print(\"Couldn't find the data\")\n",
    "                games_id.append(None)"
   ]
  },
  {
   "cell_type": "code",
   "execution_count": 10,
   "metadata": {
    "ExecuteTime": {
     "end_time": "2020-11-29T11:30:49.260796Z",
     "start_time": "2020-11-29T11:30:48.172723Z"
    }
   },
   "outputs": [
    {
     "data": {
      "text/html": [
       "<div>\n",
       "<style scoped>\n",
       "    .dataframe tbody tr th:only-of-type {\n",
       "        vertical-align: middle;\n",
       "    }\n",
       "\n",
       "    .dataframe tbody tr th {\n",
       "        vertical-align: top;\n",
       "    }\n",
       "\n",
       "    .dataframe thead th {\n",
       "        text-align: right;\n",
       "    }\n",
       "</style>\n",
       "<table border=\"1\" class=\"dataframe\">\n",
       "  <thead>\n",
       "    <tr style=\"text-align: right;\">\n",
       "      <th></th>\n",
       "      <th>developers_id</th>\n",
       "      <th>developers_name</th>\n",
       "      <th>slug_name</th>\n",
       "      <th>games_count</th>\n",
       "      <th>games_id</th>\n",
       "    </tr>\n",
       "    <tr>\n",
       "      <th>id</th>\n",
       "      <th></th>\n",
       "      <th></th>\n",
       "      <th></th>\n",
       "      <th></th>\n",
       "      <th></th>\n",
       "    </tr>\n",
       "  </thead>\n",
       "  <tbody>\n",
       "    <tr>\n",
       "      <th>1</th>\n",
       "      <td>18893</td>\n",
       "      <td>Feral Interactive</td>\n",
       "      <td>feral-interactive</td>\n",
       "      <td>105</td>\n",
       "      <td>7689</td>\n",
       "    </tr>\n",
       "    <tr>\n",
       "      <th>2</th>\n",
       "      <td>18893</td>\n",
       "      <td>Feral Interactive</td>\n",
       "      <td>feral-interactive</td>\n",
       "      <td>105</td>\n",
       "      <td>11973</td>\n",
       "    </tr>\n",
       "    <tr>\n",
       "      <th>3</th>\n",
       "      <td>18893</td>\n",
       "      <td>Feral Interactive</td>\n",
       "      <td>feral-interactive</td>\n",
       "      <td>105</td>\n",
       "      <td>10035</td>\n",
       "    </tr>\n",
       "    <tr>\n",
       "      <th>4</th>\n",
       "      <td>18893</td>\n",
       "      <td>Feral Interactive</td>\n",
       "      <td>feral-interactive</td>\n",
       "      <td>105</td>\n",
       "      <td>4427</td>\n",
       "    </tr>\n",
       "    <tr>\n",
       "      <th>5</th>\n",
       "      <td>18893</td>\n",
       "      <td>Feral Interactive</td>\n",
       "      <td>feral-interactive</td>\n",
       "      <td>105</td>\n",
       "      <td>10754</td>\n",
       "    </tr>\n",
       "    <tr>\n",
       "      <th>...</th>\n",
       "      <td>...</td>\n",
       "      <td>...</td>\n",
       "      <td>...</td>\n",
       "      <td>...</td>\n",
       "      <td>...</td>\n",
       "    </tr>\n",
       "    <tr>\n",
       "      <th>19868</th>\n",
       "      <td>23021</td>\n",
       "      <td>Josh Tam Universe</td>\n",
       "      <td>josh-tam-universe</td>\n",
       "      <td>3</td>\n",
       "      <td>51748</td>\n",
       "    </tr>\n",
       "    <tr>\n",
       "      <th>19869</th>\n",
       "      <td>23021</td>\n",
       "      <td>Josh Tam Universe</td>\n",
       "      <td>josh-tam-universe</td>\n",
       "      <td>3</td>\n",
       "      <td>64825</td>\n",
       "    </tr>\n",
       "    <tr>\n",
       "      <th>19870</th>\n",
       "      <td>11433</td>\n",
       "      <td>Manuel Pazos</td>\n",
       "      <td>manuel-pazos</td>\n",
       "      <td>1</td>\n",
       "      <td>19783</td>\n",
       "    </tr>\n",
       "    <tr>\n",
       "      <th>19871</th>\n",
       "      <td>5240</td>\n",
       "      <td>Maruf ARTUKOĞLU</td>\n",
       "      <td>maruf-artukoglu</td>\n",
       "      <td>2</td>\n",
       "      <td>216352</td>\n",
       "    </tr>\n",
       "    <tr>\n",
       "      <th>19872</th>\n",
       "      <td>5240</td>\n",
       "      <td>Maruf ARTUKOĞLU</td>\n",
       "      <td>maruf-artukoglu</td>\n",
       "      <td>2</td>\n",
       "      <td>11266</td>\n",
       "    </tr>\n",
       "  </tbody>\n",
       "</table>\n",
       "<p>19872 rows × 5 columns</p>\n",
       "</div>"
      ],
      "text/plain": [
       "      developers_id    developers_name          slug_name games_count games_id\n",
       "id                                                                            \n",
       "1             18893  Feral Interactive  feral-interactive         105     7689\n",
       "2             18893  Feral Interactive  feral-interactive         105    11973\n",
       "3             18893  Feral Interactive  feral-interactive         105    10035\n",
       "4             18893  Feral Interactive  feral-interactive         105     4427\n",
       "5             18893  Feral Interactive  feral-interactive         105    10754\n",
       "...             ...                ...                ...         ...      ...\n",
       "19868         23021  Josh Tam Universe  josh-tam-universe           3    51748\n",
       "19869         23021  Josh Tam Universe  josh-tam-universe           3    64825\n",
       "19870         11433       Manuel Pazos       manuel-pazos           1    19783\n",
       "19871          5240    Maruf ARTUKOĞLU    maruf-artukoglu           2   216352\n",
       "19872          5240    Maruf ARTUKOĞLU    maruf-artukoglu           2    11266\n",
       "\n",
       "[19872 rows x 5 columns]"
      ]
     },
     "execution_count": 10,
     "metadata": {},
     "output_type": "execute_result"
    }
   ],
   "source": [
    "# Create developers DataFrame\n",
    "a = {'developers_id': developers_id,\n",
    "     'developers_name': developers_name,\n",
    "     'slug_name': slug_name,\n",
    "     'games_count': games_count,\n",
    "     'games_id':games_id}\n",
    "\n",
    "\n",
    "developers_df = pd.DataFrame.from_dict(a, orient='index')\n",
    "developers_df = developers_df.transpose()\n",
    "developers_df.index = [x for x in range(1, len(developers_df.values)+1)]\n",
    "developers_df.index.name = 'id'\n",
    "developers_df"
   ]
  },
  {
   "cell_type": "code",
   "execution_count": 11,
   "metadata": {
    "ExecuteTime": {
     "end_time": "2020-11-29T11:30:49.265477Z",
     "start_time": "2020-11-29T11:30:49.262451Z"
    }
   },
   "outputs": [
    {
     "data": {
      "text/plain": [
       "19872"
      ]
     },
     "execution_count": 11,
     "metadata": {},
     "output_type": "execute_result"
    }
   ],
   "source": [
    "# Check the lenght of developers DataFrame\n",
    "len(developers_df)"
   ]
  },
  {
   "cell_type": "markdown",
   "metadata": {},
   "source": [
    "## Transform Games DataFrame"
   ]
  },
  {
   "cell_type": "code",
   "execution_count": 12,
   "metadata": {
    "ExecuteTime": {
     "end_time": "2020-11-29T11:30:49.305519Z",
     "start_time": "2020-11-29T11:30:49.267262Z"
    }
   },
   "outputs": [
    {
     "data": {
      "text/html": [
       "<div>\n",
       "<style scoped>\n",
       "    .dataframe tbody tr th:only-of-type {\n",
       "        vertical-align: middle;\n",
       "    }\n",
       "\n",
       "    .dataframe tbody tr th {\n",
       "        vertical-align: top;\n",
       "    }\n",
       "\n",
       "    .dataframe thead th {\n",
       "        text-align: right;\n",
       "    }\n",
       "</style>\n",
       "<table border=\"1\" class=\"dataframe\">\n",
       "  <thead>\n",
       "    <tr style=\"text-align: right;\">\n",
       "      <th></th>\n",
       "      <th>games_id</th>\n",
       "      <th>games_name</th>\n",
       "      <th>games_slug</th>\n",
       "      <th>released</th>\n",
       "      <th>rating</th>\n",
       "      <th>ratings_count</th>\n",
       "      <th>playtime</th>\n",
       "      <th>platform_id</th>\n",
       "      <th>platform</th>\n",
       "      <th>genres</th>\n",
       "      <th>stores</th>\n",
       "    </tr>\n",
       "    <tr>\n",
       "      <th>id</th>\n",
       "      <th></th>\n",
       "      <th></th>\n",
       "      <th></th>\n",
       "      <th></th>\n",
       "      <th></th>\n",
       "      <th></th>\n",
       "      <th></th>\n",
       "      <th></th>\n",
       "      <th></th>\n",
       "      <th></th>\n",
       "      <th></th>\n",
       "    </tr>\n",
       "  </thead>\n",
       "  <tbody>\n",
       "    <tr>\n",
       "      <th>1</th>\n",
       "      <td>28.0</td>\n",
       "      <td>Red Dead Redemption 2</td>\n",
       "      <td>red-dead-redemption-2</td>\n",
       "      <td>2018-10-26</td>\n",
       "      <td>4.56</td>\n",
       "      <td>2900.0</td>\n",
       "      <td>20.0</td>\n",
       "      <td>4.0</td>\n",
       "      <td>PC</td>\n",
       "      <td>Adventure</td>\n",
       "      <td>Steam</td>\n",
       "    </tr>\n",
       "    <tr>\n",
       "      <th>2</th>\n",
       "      <td>58175.0</td>\n",
       "      <td>God of War</td>\n",
       "      <td>god-of-war-2</td>\n",
       "      <td>2018-04-20</td>\n",
       "      <td>4.60</td>\n",
       "      <td>2877.0</td>\n",
       "      <td>20.0</td>\n",
       "      <td>18.0</td>\n",
       "      <td>PlayStation 4</td>\n",
       "      <td>Adventure</td>\n",
       "      <td>PlayStation Store</td>\n",
       "    </tr>\n",
       "    <tr>\n",
       "      <th>3</th>\n",
       "      <td>32.0</td>\n",
       "      <td>Destiny 2</td>\n",
       "      <td>destiny-2</td>\n",
       "      <td>2017-09-06</td>\n",
       "      <td>3.63</td>\n",
       "      <td>1658.0</td>\n",
       "      <td>4.0</td>\n",
       "      <td>4.0</td>\n",
       "      <td>PC</td>\n",
       "      <td>Shooter</td>\n",
       "      <td>Steam</td>\n",
       "    </tr>\n",
       "    <tr>\n",
       "      <th>4</th>\n",
       "      <td>278.0</td>\n",
       "      <td>Horizon Zero Dawn</td>\n",
       "      <td>horizon-zero-dawn</td>\n",
       "      <td>2017-02-28</td>\n",
       "      <td>4.35</td>\n",
       "      <td>2400.0</td>\n",
       "      <td>7.0</td>\n",
       "      <td>4.0</td>\n",
       "      <td>PC</td>\n",
       "      <td>Adventure</td>\n",
       "      <td>Steam</td>\n",
       "    </tr>\n",
       "    <tr>\n",
       "      <th>5</th>\n",
       "      <td>10035.0</td>\n",
       "      <td>HITMAN</td>\n",
       "      <td>hitman</td>\n",
       "      <td>2017-11-16</td>\n",
       "      <td>3.92</td>\n",
       "      <td>1358.0</td>\n",
       "      <td>7.0</td>\n",
       "      <td>4.0</td>\n",
       "      <td>PC</td>\n",
       "      <td>Shooter</td>\n",
       "      <td>Steam</td>\n",
       "    </tr>\n",
       "  </tbody>\n",
       "</table>\n",
       "</div>"
      ],
      "text/plain": [
       "    games_id             games_name             games_slug    released  \\\n",
       "id                                                                       \n",
       "1       28.0  Red Dead Redemption 2  red-dead-redemption-2  2018-10-26   \n",
       "2    58175.0             God of War           god-of-war-2  2018-04-20   \n",
       "3       32.0              Destiny 2              destiny-2  2017-09-06   \n",
       "4      278.0      Horizon Zero Dawn      horizon-zero-dawn  2017-02-28   \n",
       "5    10035.0                 HITMAN                 hitman  2017-11-16   \n",
       "\n",
       "    rating  ratings_count  playtime  platform_id       platform     genres  \\\n",
       "id                                                                           \n",
       "1     4.56         2900.0      20.0          4.0             PC  Adventure   \n",
       "2     4.60         2877.0      20.0         18.0  PlayStation 4  Adventure   \n",
       "3     3.63         1658.0       4.0          4.0             PC    Shooter   \n",
       "4     4.35         2400.0       7.0          4.0             PC  Adventure   \n",
       "5     3.92         1358.0       7.0          4.0             PC    Shooter   \n",
       "\n",
       "               stores  \n",
       "id                     \n",
       "1               Steam  \n",
       "2   PlayStation Store  \n",
       "3               Steam  \n",
       "4               Steam  \n",
       "5               Steam  "
      ]
     },
     "execution_count": 12,
     "metadata": {},
     "output_type": "execute_result"
    }
   ],
   "source": [
    "# Create a filtered dataframe from specific columns\n",
    "games_cols = [\"games_id\",\"games_name\",\"games_slug\",\"released\",\"rating\",\"ratings_count\",\"playtime\",\"platform_id\",\"platform\",\"genres\",\"stores\"]\n",
    "games_transformed= games_df[games_cols].copy()\n",
    "\n",
    "# Rename the column headers\n",
    "games_transformed = games_transformed.rename(columns={\"games_id\": \"games_id\",\n",
    "                                                      \"games_name\": \"games_name\",\n",
    "                                                      \"games_slug\": \"games_slug\",\n",
    "                                                      \"released\": \"released\",\n",
    "                                                      \"rating\": \"rating\",\n",
    "                                                      \"ratings_count\": \"ratings_count\",\n",
    "                                                      \"playtime\": \"playtime\",\n",
    "                                                      \"platform_id\":\"platform_id\",\n",
    "                                                      \"genres\": \"genres\",\n",
    "                                                      \"stores\":\"stores\"})\n",
    "\n",
    "# Clean the data by dropping the rows with 'None' values\n",
    "games_transformed = games_transformed.replace(to_replace='None', value=np.nan).dropna()\n",
    "games_transformed.head()"
   ]
  },
  {
   "cell_type": "code",
   "execution_count": 13,
   "metadata": {
    "ExecuteTime": {
     "end_time": "2020-11-29T11:30:49.311995Z",
     "start_time": "2020-11-29T11:30:49.307908Z"
    }
   },
   "outputs": [
    {
     "data": {
      "text/plain": [
       "5578"
      ]
     },
     "execution_count": 13,
     "metadata": {},
     "output_type": "execute_result"
    }
   ],
   "source": [
    "# Check the lenght of games_transformed DataFrame\n",
    "len(games_transformed)"
   ]
  },
  {
   "cell_type": "markdown",
   "metadata": {},
   "source": [
    "## Transform Publishers DataFrame"
   ]
  },
  {
   "cell_type": "code",
   "execution_count": 14,
   "metadata": {
    "ExecuteTime": {
     "end_time": "2020-11-29T11:30:49.351848Z",
     "start_time": "2020-11-29T11:30:49.313998Z"
    },
    "code_folding": []
   },
   "outputs": [
    {
     "data": {
      "text/html": [
       "<div>\n",
       "<style scoped>\n",
       "    .dataframe tbody tr th:only-of-type {\n",
       "        vertical-align: middle;\n",
       "    }\n",
       "\n",
       "    .dataframe tbody tr th {\n",
       "        vertical-align: top;\n",
       "    }\n",
       "\n",
       "    .dataframe thead th {\n",
       "        text-align: right;\n",
       "    }\n",
       "</style>\n",
       "<table border=\"1\" class=\"dataframe\">\n",
       "  <thead>\n",
       "    <tr style=\"text-align: right;\">\n",
       "      <th></th>\n",
       "      <th>games_id</th>\n",
       "      <th>publishers</th>\n",
       "      <th>publishers_slug</th>\n",
       "      <th>publishers_id</th>\n",
       "    </tr>\n",
       "    <tr>\n",
       "      <th>id</th>\n",
       "      <th></th>\n",
       "      <th></th>\n",
       "      <th></th>\n",
       "      <th></th>\n",
       "    </tr>\n",
       "  </thead>\n",
       "  <tbody>\n",
       "    <tr>\n",
       "      <th>1</th>\n",
       "      <td>4200</td>\n",
       "      <td>Electronic Arts</td>\n",
       "      <td>electronic-arts</td>\n",
       "      <td>354</td>\n",
       "    </tr>\n",
       "    <tr>\n",
       "      <th>2</th>\n",
       "      <td>12020</td>\n",
       "      <td>Electronic Arts</td>\n",
       "      <td>electronic-arts</td>\n",
       "      <td>354</td>\n",
       "    </tr>\n",
       "    <tr>\n",
       "      <th>3</th>\n",
       "      <td>4252</td>\n",
       "      <td>Electronic Arts</td>\n",
       "      <td>electronic-arts</td>\n",
       "      <td>354</td>\n",
       "    </tr>\n",
       "    <tr>\n",
       "      <th>4</th>\n",
       "      <td>4806</td>\n",
       "      <td>Electronic Arts</td>\n",
       "      <td>electronic-arts</td>\n",
       "      <td>354</td>\n",
       "    </tr>\n",
       "    <tr>\n",
       "      <th>5</th>\n",
       "      <td>4570</td>\n",
       "      <td>Electronic Arts</td>\n",
       "      <td>electronic-arts</td>\n",
       "      <td>354</td>\n",
       "    </tr>\n",
       "  </tbody>\n",
       "</table>\n",
       "</div>"
      ],
      "text/plain": [
       "    games_id       publishers  publishers_slug  publishers_id\n",
       "id                                                           \n",
       "1       4200  Electronic Arts  electronic-arts            354\n",
       "2      12020  Electronic Arts  electronic-arts            354\n",
       "3       4252  Electronic Arts  electronic-arts            354\n",
       "4       4806  Electronic Arts  electronic-arts            354\n",
       "5       4570  Electronic Arts  electronic-arts            354"
      ]
     },
     "execution_count": 14,
     "metadata": {},
     "output_type": "execute_result"
    }
   ],
   "source": [
    "# Create a filtered dataframe from specific columns\n",
    "publishers_cols = [\"games_id\", \"publishers_name\", \"slug_name\", \"publishers_id\"]\n",
    "publishers_transformed= publishers_df[publishers_cols].copy()\n",
    "\n",
    "# Rename the column headers\n",
    "publishers_transformed = publishers_transformed.rename(columns={\"games_id\": \"games_id\",\n",
    "                                                        \"publishers_name\": \"publishers\",\n",
    "                                                        \"slug_name\": \"publishers_slug\",\n",
    "                                                        \"publishers_id\": \"publishers_id\"})\n",
    "\n",
    "# Clean the data by dropping the rows with 'None' values\n",
    "publishers_transformed = publishers_transformed.replace(to_replace='None', value=np.nan).dropna()\n",
    "publishers_transformed.head()"
   ]
  },
  {
   "cell_type": "markdown",
   "metadata": {},
   "source": [
    "## Transform Developers DataFrame"
   ]
  },
  {
   "cell_type": "code",
   "execution_count": 15,
   "metadata": {
    "ExecuteTime": {
     "end_time": "2020-11-29T11:30:49.393387Z",
     "start_time": "2020-11-29T11:30:49.354252Z"
    }
   },
   "outputs": [
    {
     "data": {
      "text/html": [
       "<div>\n",
       "<style scoped>\n",
       "    .dataframe tbody tr th:only-of-type {\n",
       "        vertical-align: middle;\n",
       "    }\n",
       "\n",
       "    .dataframe tbody tr th {\n",
       "        vertical-align: top;\n",
       "    }\n",
       "\n",
       "    .dataframe thead th {\n",
       "        text-align: right;\n",
       "    }\n",
       "</style>\n",
       "<table border=\"1\" class=\"dataframe\">\n",
       "  <thead>\n",
       "    <tr style=\"text-align: right;\">\n",
       "      <th></th>\n",
       "      <th>games_id</th>\n",
       "      <th>developers</th>\n",
       "      <th>developers_slug</th>\n",
       "      <th>developers_id</th>\n",
       "    </tr>\n",
       "    <tr>\n",
       "      <th>id</th>\n",
       "      <th></th>\n",
       "      <th></th>\n",
       "      <th></th>\n",
       "      <th></th>\n",
       "    </tr>\n",
       "  </thead>\n",
       "  <tbody>\n",
       "    <tr>\n",
       "      <th>1</th>\n",
       "      <td>7689</td>\n",
       "      <td>Feral Interactive</td>\n",
       "      <td>feral-interactive</td>\n",
       "      <td>18893</td>\n",
       "    </tr>\n",
       "    <tr>\n",
       "      <th>2</th>\n",
       "      <td>11973</td>\n",
       "      <td>Feral Interactive</td>\n",
       "      <td>feral-interactive</td>\n",
       "      <td>18893</td>\n",
       "    </tr>\n",
       "    <tr>\n",
       "      <th>3</th>\n",
       "      <td>10035</td>\n",
       "      <td>Feral Interactive</td>\n",
       "      <td>feral-interactive</td>\n",
       "      <td>18893</td>\n",
       "    </tr>\n",
       "    <tr>\n",
       "      <th>4</th>\n",
       "      <td>4427</td>\n",
       "      <td>Feral Interactive</td>\n",
       "      <td>feral-interactive</td>\n",
       "      <td>18893</td>\n",
       "    </tr>\n",
       "    <tr>\n",
       "      <th>5</th>\n",
       "      <td>10754</td>\n",
       "      <td>Feral Interactive</td>\n",
       "      <td>feral-interactive</td>\n",
       "      <td>18893</td>\n",
       "    </tr>\n",
       "  </tbody>\n",
       "</table>\n",
       "</div>"
      ],
      "text/plain": [
       "    games_id         developers    developers_slug  developers_id\n",
       "id                                                               \n",
       "1       7689  Feral Interactive  feral-interactive          18893\n",
       "2      11973  Feral Interactive  feral-interactive          18893\n",
       "3      10035  Feral Interactive  feral-interactive          18893\n",
       "4       4427  Feral Interactive  feral-interactive          18893\n",
       "5      10754  Feral Interactive  feral-interactive          18893"
      ]
     },
     "execution_count": 15,
     "metadata": {},
     "output_type": "execute_result"
    }
   ],
   "source": [
    "# Create a filtered dataframe from specific columns\n",
    "developers_cols = [\"games_id\", \"developers_name\", \"slug_name\", \"developers_id\"]\n",
    "developers_transformed= developers_df[developers_cols].copy()\n",
    "\n",
    "# Rename the column headers\n",
    "developers_transformed = developers_transformed.rename(columns={\"games_id\": \"games_id\",\n",
    "                                                        \"developers_name\": \"developers\",\n",
    "                                                        \"slug_name\": \"developers_slug\",\n",
    "                                                        \"developers_id\": \"developers_id\"})\n",
    "\n",
    "# Clean the data by dropping the rows with 'None' values\n",
    "developers_transformed = developers_transformed.replace(to_replace='None', value=np.nan).dropna()\n",
    "developers_transformed.head()"
   ]
  },
  {
   "cell_type": "markdown",
   "metadata": {},
   "source": [
    "## Create database connection¶"
   ]
  },
  {
   "cell_type": "code",
   "execution_count": 27,
   "metadata": {
    "ExecuteTime": {
     "end_time": "2020-11-29T11:42:19.585153Z",
     "start_time": "2020-11-29T11:42:19.523396Z"
    }
   },
   "outputs": [],
   "source": [
    "# connect to local database\n",
    "engine = create_engine(f\"postgresql://{username}:{password}@{host}:{port}/game_db\")\n",
    "connection = engine.connect()"
   ]
  },
  {
   "cell_type": "code",
   "execution_count": 29,
   "metadata": {
    "ExecuteTime": {
     "end_time": "2020-11-29T11:42:41.299825Z",
     "start_time": "2020-11-29T11:42:41.294783Z"
    }
   },
   "outputs": [
    {
     "data": {
      "text/plain": [
       "['games', 'publishers', 'developers']"
      ]
     },
     "execution_count": 29,
     "metadata": {},
     "output_type": "execute_result"
    }
   ],
   "source": [
    "# Confirm tables\n",
    "engine.table_names()"
   ]
  },
  {
   "cell_type": "markdown",
   "metadata": {},
   "source": [
    "## Load DataFrames into database"
   ]
  },
  {
   "cell_type": "code",
   "execution_count": 30,
   "metadata": {
    "ExecuteTime": {
     "end_time": "2020-11-29T11:42:46.272751Z",
     "start_time": "2020-11-29T11:42:45.552312Z"
    }
   },
   "outputs": [],
   "source": [
    "games_transformed.to_sql(name='games', con=engine, if_exists='append', index=True) "
   ]
  },
  {
   "cell_type": "code",
   "execution_count": 31,
   "metadata": {
    "ExecuteTime": {
     "end_time": "2020-11-29T11:42:49.085893Z",
     "start_time": "2020-11-29T11:42:47.492282Z"
    }
   },
   "outputs": [],
   "source": [
    "publishers_transformed.to_sql(name='publishers', con=engine, if_exists='append', index=True)"
   ]
  },
  {
   "cell_type": "code",
   "execution_count": 32,
   "metadata": {
    "ExecuteTime": {
     "end_time": "2020-11-29T11:42:51.576825Z",
     "start_time": "2020-11-29T11:42:49.822250Z"
    }
   },
   "outputs": [],
   "source": [
    "developers_transformed.to_sql(name='developers', con=engine, if_exists='append', index=True)"
   ]
  }
 ],
 "metadata": {
  "hide_input": false,
  "kernelspec": {
   "display_name": "Python 3",
   "language": "python",
   "name": "python3"
  },
  "language_info": {
   "codemirror_mode": {
    "name": "ipython",
    "version": 3
   },
   "file_extension": ".py",
   "mimetype": "text/x-python",
   "name": "python",
   "nbconvert_exporter": "python",
   "pygments_lexer": "ipython3",
   "version": "3.8.3"
  }
 },
 "nbformat": 4,
 "nbformat_minor": 4
}
